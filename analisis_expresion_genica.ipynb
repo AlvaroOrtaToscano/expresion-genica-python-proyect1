{
 "cells": [
  {
   "cell_type": "markdown",
   "metadata": {},
   "source": [
    "# Análisis de expresión génica en cáncer\n",
    "Autor: Álvaro Orta Toscano\n",
    "Proyecto bioinformático en Python"
   ]
  },
  {
   "cell_type": "code",
   "execution_count": null,
   "metadata": {},
   "outputs": [],
   "source": [
    "# Importar librerías\n",
    "import pandas as pd\n",
    "import matplotlib.pyplot as plt\n",
    "import seaborn as sns"
   ]
  },
  {
   "cell_type": "code",
   "execution_count": null,
   "metadata": {},
   "outputs": [],
   "source": [
    "# Cargar los datos\n",
    "df = pd.read_csv('datos_cancer.csv')\n",
    "df"
   ]
  },
  {
   "cell_type": "code",
   "execution_count": null,
   "metadata": {},
   "outputs": [],
   "source": [
    "# Visualizar diferencias de expresión\n",
    "df.plot(x='Gene', y=['Expresion_Tumor', 'Expresion_Normal'], kind='bar')\n",
    "plt.title('Expresión génica: Tumor vs Normal')\n",
    "plt.ylabel('Nivel de expresión')\n",
    "plt.show()"
   ]
  }
 ],
 "metadata": {
  "kernelspec": {
   "display_name": "Python 3",
   "language": "python",
   "name": "python3"
  },
  "language_info": {
   "name": "python",
   "version": "3.11"
  }
 },
 "nbformat": 4,
 "nbformat_minor": 2
}
